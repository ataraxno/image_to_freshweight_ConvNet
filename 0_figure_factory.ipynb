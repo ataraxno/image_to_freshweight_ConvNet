{
 "cells": [
  {
   "cell_type": "code",
   "execution_count": null,
   "metadata": {},
   "outputs": [],
   "source": [
    "import os\n",
    "\n",
    "import numpy as np\n",
    "np.set_printoptions(suppress=True)\n",
    "import pandas as pd\n",
    "from sklearn import linear_model\n",
    "from sklearn.metrics import mean_squared_error, r2_score\n",
    "from sklearn.manifold import TSNE\n",
    "\n",
    "import matplotlib\n",
    "import matplotlib.pyplot as plt\n",
    "import matplotlib.dates as mdates\n",
    "from matplotlib.ticker import (LinearLocator, MultipleLocator, FormatStrFormatter)\n",
    "from matplotlib.dates import MONDAY\n",
    "from matplotlib.dates import MonthLocator, WeekdayLocator, DateFormatter\n",
    "from matplotlib import gridspec\n",
    "from pandas.plotting import register_matplotlib_converters\n",
    "register_matplotlib_converters()\n",
    "%matplotlib inline\n",
    "\n",
    "print(\"Package is ready.\")"
   ]
  },
  {
   "cell_type": "code",
   "execution_count": null,
   "metadata": {},
   "outputs": [],
   "source": [
    "plt.rcParams['figure.figsize'] = ((8/2.54), (6/2.54))\n",
    "plt.rcParams[\"font.family\"] = \"Arial\"\n",
    "plt.rcParams[\"mathtext.default\"] = \"rm\"\n",
    "plt.rcParams.update({'font.size': 11})\n",
    "MARKER_SIZE = 15\n",
    "cmap_m = [\"#f4a6ad\", \"#f6957e\", \"#fccfa2\", \"#8de7be\", \"#86d6f2\", \"#24a9e4\", \"#b586e0\", \"#d7f293\"]\n",
    "cmap = [\"#e94d5b\", \"#ef4d28\", \"#f9a54f\", \"#25b575\", \"#1bb1e7\", \"#1477a2\", \"#a662e5\", \"#c2f442\"]\n",
    "\n",
    "plt.rcParams['axes.spines.top'] = False\n",
    "# plt.rcParams['axes.edgecolor'] = \n",
    "plt.rcParams['axes.linewidth'] = 1\n",
    "plt.rcParams['lines.linewidth'] = 1.5\n",
    "plt.rcParams['xtick.major.width'] = 1\n",
    "plt.rcParams['xtick.minor.width'] = 1\n",
    "plt.rcParams['ytick.major.width'] = 1\n",
    "plt.rcParams['ytick.minor.width'] = 1"
   ]
  },
  {
   "cell_type": "code",
   "execution_count": null,
   "metadata": {},
   "outputs": [],
   "source": [
    "def make_patch_spines_invisible(ax):\n",
    "    ax.set_frame_on(True)\n",
    "    ax.patch.set_visible(False)\n",
    "    for sp in ax.spines.values():\n",
    "        sp.set_visible(False)"
   ]
  },
  {
   "cell_type": "code",
   "execution_count": null,
   "metadata": {},
   "outputs": [],
   "source": [
    "SW2_df = pd.read_csv('../weighing/results/SW2_greenhouse.csv', index_col='Unnamed: 0')\n",
    "SW2_df.index = pd.DatetimeIndex(SW2_df.index)"
   ]
  },
  {
   "cell_type": "code",
   "execution_count": null,
   "metadata": {},
   "outputs": [],
   "source": [
    "rad_temp = SW2_df[SW2_df['rad'] > 10]['rad']"
   ]
  },
  {
   "cell_type": "code",
   "execution_count": null,
   "metadata": {},
   "outputs": [],
   "source": [
    "rad_temp.index = rad_temp.index.round(freq='1 d')\n",
    "rad_temp = rad_temp.groupby(rad_temp.index).mean()"
   ]
  },
  {
   "cell_type": "code",
   "execution_count": null,
   "metadata": {},
   "outputs": [],
   "source": [
    "SW2_df.index = SW2_df.index.round(freq='1 d')\n",
    "SW2_df = SW2_df.groupby(SW2_df.index).mean()\n",
    "SW2_df['rad'] = rad_temp.values"
   ]
  },
  {
   "cell_type": "code",
   "execution_count": null,
   "metadata": {},
   "outputs": [],
   "source": [
    "fig = plt.figure(figsize=((8/2.54*2), (6/2.54*1.2)))\n",
    "ax0 = plt.subplot()\n",
    "\n",
    "temp_line, = ax0.plot(SW2_df.index, SW2_df['temp'], '--', c='k', zorder=3)\n",
    "\n",
    "ax1 = ax0.twinx()\n",
    "rh_line, = ax1.plot(SW2_df.index, SW2_df['hum'], '-', c='k', zorder=2)\n",
    "\n",
    "ax2 = ax0.twinx()\n",
    "rad_line, = ax2.plot(SW2_df.index, SW2_df['rad'], '-.', c='k', zorder=1)\n",
    "\n",
    "ax0.spines['right'].set_visible(False)\n",
    "ax0.spines['left'].set_position(('outward', 5))\n",
    "ax0.spines['bottom'].set_position(('outward', 5))\n",
    "ax1.spines['left'].set_visible(False)\n",
    "ax1.spines['right'].set_position(('outward', 5))\n",
    "ax1.spines['bottom'].set_visible(False)\n",
    "ax2.spines['left'].set_visible(False)\n",
    "ax2.spines['right'].set_position(('outward', 55))\n",
    "ax2.spines['bottom'].set_visible(False)\n",
    "\n",
    "ax0.set_xbound(SW2_df.index.min(), SW2_df.index.max())\n",
    "ax0.xaxis.set_major_locator(LinearLocator(10))\n",
    "ax0.xaxis.set_major_formatter(mdates.DateFormatter('%m-%d'))\n",
    "\n",
    "ax0.yaxis.set_major_locator(LinearLocator(5))\n",
    "ax0.yaxis.set_minor_locator(LinearLocator(13))\n",
    "ax0.set_ybound(15, 45)\n",
    "ax1.yaxis.set_major_locator(LinearLocator(5))\n",
    "ax1.yaxis.set_minor_locator(LinearLocator(13))\n",
    "ax1.set_ybound(0, 100)\n",
    "ax2.yaxis.set_major_locator(LinearLocator(6))\n",
    "ax2.yaxis.set_minor_locator(LinearLocator(16))\n",
    "ax2.set_ybound(0, 400)\n",
    "\n",
    "ax0.set_xlabel('Date')\n",
    "ax0.set_ylabel('Temperature (°C)')\n",
    "ax1.set_ylabel('Relative humidity (%)')\n",
    "ax2.set_ylabel('Radiation (${\\mu}mol{\\ }m^{-2}{\\ }s^{-1}$)')\n",
    "\n",
    "plt.legend([temp_line, rh_line, rad_line], ['Temperature', 'Relative humidity', 'Radiation'], loc=2, frameon=False)\n",
    "fig.tight_layout()\n",
    "fig.savefig('./figures/Fig1.svg', transparent=True, format='svg')\n",
    "#fig.savefig('./figures/Fig1.png', transparent=True, dpi=600, format='png')\n",
    "plt.show() "
   ]
  },
  {
   "cell_type": "markdown",
   "metadata": {},
   "source": [
    "## Fig 1"
   ]
  },
  {
   "cell_type": "markdown",
   "metadata": {},
   "source": [
    "### image examples"
   ]
  },
  {
   "cell_type": "markdown",
   "metadata": {},
   "source": [
    "## Fig 2"
   ]
  },
  {
   "cell_type": "markdown",
   "metadata": {},
   "source": [
    "### model"
   ]
  },
  {
   "cell_type": "markdown",
   "metadata": {},
   "source": [
    "## Fig 3"
   ]
  },
  {
   "cell_type": "markdown",
   "metadata": {},
   "source": [
    "### weight"
   ]
  },
  {
   "cell_type": "code",
   "execution_count": null,
   "metadata": {},
   "outputs": [],
   "source": [
    "weight_df = pd.read_csv('./results/weight.csv', index_col='Unnamed: 0')\n",
    "weight_reg_df = pd.read_csv('./results/weight_reg.csv', index_col='Unnamed: 0')"
   ]
  },
  {
   "cell_type": "code",
   "execution_count": null,
   "metadata": {},
   "outputs": [],
   "source": [
    "weight_df.index = [27]*3 + [55]*3 + [86]*3 + [112]*4 + [132]*20"
   ]
  },
  {
   "cell_type": "code",
   "execution_count": null,
   "metadata": {},
   "outputs": [],
   "source": [
    "fig = plt.figure(figsize=((8.5/2.54), (6/2.54)))\n",
    "ax0 = plt.subplot()\n",
    "\n",
    "ax0.spines['right'].set_visible(False)\n",
    "ax0.spines['left'].set_position(('outward', 5))\n",
    "ax0.spines['bottom'].set_position(('outward', 5))\n",
    "\n",
    "ax0.plot(weight_reg_df.index, weight_reg_df.values/1000, c='k')\n",
    "ax0.plot(weight_df.index, weight_df.sum(axis=1)/1000, 'o', ms=5, mec='k', c=cmap[0])\n",
    "\n",
    "ax0.set_xbound(20, 140)\n",
    "ax0.xaxis.set_major_locator(LinearLocator(7))\n",
    "ax0.xaxis.set_minor_locator(LinearLocator(13))\n",
    "\n",
    "ax0.yaxis.set_major_locator(LinearLocator(6))\n",
    "ax0.yaxis.set_minor_locator(LinearLocator(16))\n",
    "ax0.set_ybound(0, 2.5)\n",
    "\n",
    "ax0.set_xlabel('Date')\n",
    "ax0.set_ylabel('Fresh weight (kg)')\n",
    "\n",
    "fig.tight_layout()\n",
    "fig.savefig('./figures/Fig3.svg', transparent=True, format='svg')"
   ]
  },
  {
   "cell_type": "markdown",
   "metadata": {},
   "source": [
    "## Fig 4"
   ]
  },
  {
   "cell_type": "markdown",
   "metadata": {},
   "source": [
    "### accuracy"
   ]
  },
  {
   "cell_type": "markdown",
   "metadata": {},
   "source": [
    "### A"
   ]
  },
  {
   "cell_type": "code",
   "execution_count": null,
   "metadata": {},
   "outputs": [],
   "source": [
    "pred_results = pd.read_csv('./results/final_output_A.csv', index_col='Unnamed: 0')"
   ]
  },
  {
   "cell_type": "code",
   "execution_count": null,
   "metadata": {},
   "outputs": [],
   "source": [
    "fig = plt.figure(figsize=((8.5/2.54), (6/2.54)))\n",
    "ax0 = plt.subplot()\n",
    "\n",
    "ax0.spines['right'].set_visible(False)\n",
    "ax0.spines['left'].set_position(('outward', 5))\n",
    "ax0.spines['bottom'].set_position(('outward', 5))\n",
    "\n",
    "x_linear = np.arange(-5, 25)/10\n",
    "y_linear = x_linear\n",
    "regr = linear_model.LinearRegression()\n",
    "regr.fit(pred_results['FW_label'].values.reshape(-1, 1)/1000, pred_results['FW_pred'].values.reshape(-1, 1)/1000)\n",
    "Yp = regr.predict(pred_results['FW_label'].values.reshape(-1, 1))\n",
    "reg_x = np.arange(-5, 25).reshape(-1, 1)/10\n",
    "reg_y = reg_x*regr.coef_ + regr.intercept_\n",
    "\n",
    "dia_line = ax0.plot(x_linear, y_linear, 'k--', linewidth=1, alpha=0.8)\n",
    "reg_line = ax0.plot(reg_x, reg_y, 'k-', linewidth=1, alpha=0.8)\n",
    "pred_dots = ax0.plot(pred_results['FW_label']/1000, pred_results['FW_pred']/1000, 'o', mec='k', c=cmap[0], ms=5)\n",
    "\n",
    "ax0.set_xbound([-0.5, 2.5])\n",
    "ax0.set_ybound([-0.5, 2.5])\n",
    "\n",
    "ax0.xaxis.set_major_locator(LinearLocator(7))\n",
    "ax0.xaxis.set_minor_locator(LinearLocator(13))\n",
    "ax0.yaxis.set_major_locator(LinearLocator(7))\n",
    "ax0.yaxis.set_minor_locator(LinearLocator(13))\n",
    "\n",
    "ax0.set_xlabel('Measured fresh weight (kg)')\n",
    "ax0.set_ylabel('Estimated fresh weight (kg)')\n",
    "\n",
    "fig.tight_layout()\n",
    "fig.savefig('./figures/Fig4A.svg', transparent=True, format='svg')"
   ]
  },
  {
   "cell_type": "code",
   "execution_count": null,
   "metadata": {},
   "outputs": [],
   "source": [
    "print(regr.coef_, regr.intercept_)"
   ]
  },
  {
   "cell_type": "code",
   "execution_count": null,
   "metadata": {},
   "outputs": [],
   "source": [
    "print(np.sqrt(mean_squared_error(pred_results['FW_label'].values.reshape(-1, 1)/1000, pred_results['FW_pred'].values.reshape(-1, 1)/1000)))\n",
    "print(r2_score(pred_results['FW_label'].values.reshape(-1, 1)/1000, pred_results['FW_pred'].values.reshape(-1, 1)/1000))"
   ]
  },
  {
   "cell_type": "markdown",
   "metadata": {},
   "source": [
    "### B"
   ]
  },
  {
   "cell_type": "code",
   "execution_count": null,
   "metadata": {},
   "outputs": [],
   "source": [
    "pred_results = pd.read_csv('./results/final_output_B.csv', index_col='Unnamed: 0')"
   ]
  },
  {
   "cell_type": "code",
   "execution_count": null,
   "metadata": {},
   "outputs": [],
   "source": [
    "fig = plt.figure(figsize=((8.5/2.54), (6/2.54)))\n",
    "ax0 = plt.subplot()\n",
    "\n",
    "ax0.spines['right'].set_visible(False)\n",
    "ax0.spines['left'].set_position(('outward', 5))\n",
    "ax0.spines['bottom'].set_position(('outward', 5))\n",
    "\n",
    "x_linear = np.arange(-5, 25)/10\n",
    "y_linear = x_linear\n",
    "regr = linear_model.LinearRegression()\n",
    "regr.fit(pred_results['FW_label'].values.reshape(-1, 1)/1000, pred_results['FW_pred'].values.reshape(-1, 1)/1000)\n",
    "Yp = regr.predict(pred_results['FW_label'].values.reshape(-1, 1))\n",
    "reg_x = np.arange(-5, 25).reshape(-1, 1)/10\n",
    "reg_y = reg_x*regr.coef_ + regr.intercept_\n",
    "\n",
    "dia_line = ax0.plot(x_linear, y_linear, 'k--', linewidth=1, alpha=0.8)\n",
    "reg_line = ax0.plot(reg_x, reg_y, 'k-', linewidth=1, alpha=0.8)\n",
    "pred_dots = ax0.plot(pred_results['FW_label']/1000, pred_results['FW_pred']/1000, 'o', mec='k', c=cmap[0], ms=5)\n",
    "\n",
    "ax0.set_xbound([0, 2.5])\n",
    "ax0.set_ybound([0, 2.5])\n",
    "\n",
    "ax0.xaxis.set_major_locator(LinearLocator(6))\n",
    "ax0.xaxis.set_minor_locator(LinearLocator(11))\n",
    "ax0.yaxis.set_major_locator(LinearLocator(6))\n",
    "ax0.yaxis.set_minor_locator(LinearLocator(11))\n",
    "\n",
    "ax0.set_xlabel('Measured fresh weight (kg)')\n",
    "ax0.set_ylabel('Estimated fresh weight (kg)')\n",
    "\n",
    "fig.tight_layout()\n",
    "fig.savefig('./figures/Fig4B.svg', transparent=True, format='svg')"
   ]
  },
  {
   "cell_type": "code",
   "execution_count": null,
   "metadata": {},
   "outputs": [],
   "source": [
    "print(regr.coef_, regr.intercept_)"
   ]
  },
  {
   "cell_type": "code",
   "execution_count": null,
   "metadata": {},
   "outputs": [],
   "source": [
    "print(np.sqrt(mean_squared_error(pred_results['FW_label'].values.reshape(-1, 1)/1000, pred_results['FW_pred'].values.reshape(-1, 1)/1000)))\n",
    "print(r2_score(pred_results['FW_label'].values.reshape(-1, 1)/1000, pred_results['FW_pred'].values.reshape(-1, 1)/1000))"
   ]
  },
  {
   "cell_type": "markdown",
   "metadata": {},
   "source": [
    "### C"
   ]
  },
  {
   "cell_type": "code",
   "execution_count": null,
   "metadata": {},
   "outputs": [],
   "source": [
    "pred_results = pd.read_csv('./results/final_output_C.csv', index_col='Unnamed: 0')"
   ]
  },
  {
   "cell_type": "code",
   "execution_count": null,
   "metadata": {},
   "outputs": [],
   "source": [
    "fig = plt.figure(figsize=((8.5/2.54), (6/2.54)))\n",
    "ax0 = plt.subplot()\n",
    "\n",
    "ax0.spines['right'].set_visible(False)\n",
    "ax0.spines['left'].set_position(('outward', 5))\n",
    "ax0.spines['bottom'].set_position(('outward', 5))\n",
    "\n",
    "x_linear = np.arange(-5, 25)/10\n",
    "y_linear = x_linear\n",
    "regr = linear_model.LinearRegression()\n",
    "regr.fit(pred_results['FW_label'].values.reshape(-1, 1)/1000, pred_results['FW_pred'].values.reshape(-1, 1)/1000)\n",
    "Yp = regr.predict(pred_results['FW_label'].values.reshape(-1, 1))\n",
    "reg_x = np.arange(-5, 25).reshape(-1, 1)/10\n",
    "reg_y = reg_x*regr.coef_ + regr.intercept_\n",
    "\n",
    "dia_line = ax0.plot(x_linear, y_linear, 'k--', linewidth=1, alpha=0.8)\n",
    "reg_line = ax0.plot(reg_x, reg_y, 'k-', linewidth=1, alpha=0.8)\n",
    "pred_dots = ax0.plot(pred_results['FW_label']/1000, pred_results['FW_pred']/1000, 'o', mec='k', c='w', ms=5)\n",
    "\n",
    "ax0.set_xbound([-0.5, 2.5])\n",
    "ax0.set_ybound([-0.5, 2.5])\n",
    "\n",
    "ax0.xaxis.set_major_locator(LinearLocator(7))\n",
    "ax0.xaxis.set_minor_locator(LinearLocator(13))\n",
    "ax0.yaxis.set_major_locator(LinearLocator(7))\n",
    "ax0.yaxis.set_minor_locator(LinearLocator(13))\n",
    "\n",
    "ax0.set_xlabel('Measured fresh weight (kg)')\n",
    "ax0.set_ylabel('Estimated fresh weight (kg)')\n",
    "\n",
    "fig.tight_layout()\n",
    "fig.savefig('./figures/Fig4C.svg', transparent=True, format='svg')"
   ]
  },
  {
   "cell_type": "code",
   "execution_count": null,
   "metadata": {},
   "outputs": [],
   "source": [
    "print(regr.coef_, regr.intercept_)"
   ]
  },
  {
   "cell_type": "code",
   "execution_count": null,
   "metadata": {},
   "outputs": [],
   "source": [
    "print(np.sqrt(mean_squared_error(pred_results['FW_label'].values.reshape(-1, 1)/1000, pred_results['FW_pred'].values.reshape(-1, 1)/1000)))\n",
    "print(r2_score(pred_results['FW_label'].values.reshape(-1, 1)/1000, pred_results['FW_pred'].values.reshape(-1, 1)/1000))"
   ]
  },
  {
   "cell_type": "markdown",
   "metadata": {},
   "source": [
    "## Fig 5"
   ]
  },
  {
   "cell_type": "markdown",
   "metadata": {},
   "source": [
    "### t-SNE"
   ]
  },
  {
   "cell_type": "code",
   "execution_count": null,
   "metadata": {},
   "outputs": [],
   "source": [
    "MAX = 1866.7305833920614\n",
    "MIN = 5.556884360787222"
   ]
  },
  {
   "cell_type": "code",
   "execution_count": null,
   "metadata": {},
   "outputs": [],
   "source": [
    "embed_output = pd.read_csv('./results/embed_output_B.csv', index_col='Unnamed: 0')"
   ]
  },
  {
   "cell_type": "code",
   "execution_count": null,
   "metadata": {},
   "outputs": [],
   "source": [
    "embed_output['128'] = (MAX-MIN)*embed_output['128'] + MIN"
   ]
  },
  {
   "cell_type": "code",
   "execution_count": null,
   "metadata": {},
   "outputs": [],
   "source": [
    "print(embed_output['128'].max())\n",
    "print(embed_output['128'].min())"
   ]
  },
  {
   "cell_type": "code",
   "execution_count": null,
   "metadata": {},
   "outputs": [],
   "source": [
    "np.unique(embed_output['128']//300)"
   ]
  },
  {
   "cell_type": "code",
   "execution_count": null,
   "metadata": {},
   "outputs": [],
   "source": [
    "embed_output['128'] = (embed_output['128']//300).values.astype('int')"
   ]
  },
  {
   "cell_type": "code",
   "execution_count": null,
   "metadata": {},
   "outputs": [],
   "source": [
    "test_mat = embed_output\n",
    "test_mat.index = np.arange(test_mat.shape[0])"
   ]
  },
  {
   "cell_type": "code",
   "execution_count": null,
   "metadata": {},
   "outputs": [],
   "source": [
    "tsne_result = TSNE(learning_rate=300, init='pca').fit_transform(test_mat.values[:, :-1])\n",
    "tsne_result = pd.DataFrame(tsne_result, columns=['V1', 'V2']).assign(classes = test_mat['128'])"
   ]
  },
  {
   "cell_type": "code",
   "execution_count": null,
   "metadata": {},
   "outputs": [],
   "source": [
    "fig = plt.figure(figsize=((8/2.54*2), (6/2.54*2)))\n",
    "\n",
    "ax0 = plt.subplot()\n",
    "ax0.spines['right'].set_visible(False)\n",
    "ax0.spines['left'].set_visible(False)\n",
    "ax0.spines['bottom'].set_visible(False)\n",
    "ax0.tick_params(axis='x', length=0)\n",
    "ax0.tick_params(axis='y', length=0)\n",
    "ax0.axes.xaxis.set_ticklabels([])\n",
    "ax0.axes.yaxis.set_ticklabels([])\n",
    "\n",
    "plt_01, = ax0.plot(tsne_result[tsne_result['classes'] == 1]['V1'], tsne_result[tsne_result['classes'] == 1]['V2'], 'o', c='k', ms=6, mec='k', mew=0.5)\n",
    "plt_02, = ax0.plot(tsne_result[tsne_result['classes'] == 2]['V1'], tsne_result[tsne_result['classes'] == 2]['V2'], '+', c='w', ms=6, mec='k', mew=0.5)\n",
    "plt_03, = ax0.plot(tsne_result[tsne_result['classes'] == 3]['V1'], tsne_result[tsne_result['classes'] == 3]['V2'], 's', c='w', ms=6, mec='k', mew=0.5)\n",
    "plt_04, = ax0.plot(tsne_result[tsne_result['classes'] == 4]['V1'], tsne_result[tsne_result['classes'] == 4]['V2'], 's', c='k', ms=6, mec='k', mew=0.5)\n",
    "plt_05, = ax0.plot(tsne_result[tsne_result['classes'] == 5]['V1'], tsne_result[tsne_result['classes'] == 5]['V2'], 'x', c='w', ms=6, mec='k', mew=0.5)\n",
    "plt_06, = ax0.plot(tsne_result[tsne_result['classes'] == 6]['V1'], tsne_result[tsne_result['classes'] == 6]['V2'], 'o', c='w', ms=6, mec='k', mew=0.5)\n",
    "plt.legend([plt_01, plt_02, plt_03, plt_04, plt_05, plt_06], ['0.3-0.6', '0.6-0.9', '0.9-1.2', '1.2-1.5', '1.5-1.8', '1.8-2.1'], frameon=False)\n",
    "\n",
    "fig.tight_layout()\n",
    "fig.savefig('./figures/Fig5.svg', transparent=True, format='svg')"
   ]
  }
 ],
 "metadata": {
  "kernelspec": {
   "display_name": "Environment (conda_tensorflow2_p36)",
   "language": "python",
   "name": "conda_tensorflow2_p36"
  },
  "language_info": {
   "codemirror_mode": {
    "name": "ipython",
    "version": 3
   },
   "file_extension": ".py",
   "mimetype": "text/x-python",
   "name": "python",
   "nbconvert_exporter": "python",
   "pygments_lexer": "ipython3",
   "version": "3.6.10"
  }
 },
 "nbformat": 4,
 "nbformat_minor": 4
}
