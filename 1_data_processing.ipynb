{
 "cells": [
  {
   "cell_type": "code",
   "execution_count": 19,
   "metadata": {},
   "outputs": [],
   "source": [
    "import os\n",
    "\n",
    "import numpy as np\n",
    "import pandas as pd\n",
    "\n",
    "from scipy.optimize import curve_fit\n",
    "from sklearn.metrics import r2_score"
   ]
  },
  {
   "cell_type": "markdown",
   "metadata": {},
   "source": [
    "### Fresh weights"
   ]
  },
  {
   "cell_type": "code",
   "execution_count": 2,
   "metadata": {},
   "outputs": [],
   "source": [
    "DIRECTORY = '../weighing/data/destructive/'\n",
    "file_list = os.listdir(DIRECTORY)\n",
    "dataset_list = [file for file in file_list if file.endswith('.xlsx')]\n",
    "dataset_list.sort()"
   ]
  },
  {
   "cell_type": "code",
   "execution_count": 3,
   "metadata": {},
   "outputs": [
    {
     "data": {
      "text/plain": [
       "['destructive(0707)_.xlsx',\n",
       " 'destructive(0708).xlsx',\n",
       " 'destructive(0709).xlsx',\n",
       " 'destructive_CT_(0324-0421-0519-0617).xlsx']"
      ]
     },
     "execution_count": 3,
     "metadata": {},
     "output_type": "execute_result"
    }
   ],
   "source": [
    "dataset_list"
   ]
  },
  {
   "cell_type": "code",
   "execution_count": 4,
   "metadata": {},
   "outputs": [],
   "source": [
    "FW_df = {}\n",
    "_ = 0\n",
    "for FILENAME in dataset_list[-1:]:\n",
    "    temp_df = pd.read_excel(DIRECTORY + FILENAME, sheet_name=None, skiprows=0)\n",
    "    for key in temp_df.keys():\n",
    "        if temp_df[key].shape[0] == 0:\n",
    "            continue\n",
    "            \n",
    "        FW_df[key] = temp_df[key][['Stem FW', 'Leaf FW', 'petiole FW', 'Fruit count', 'Idv fruit FW', 'Plant height']].iloc[:10, :].sum()\n",
    "    _ += 1 \n",
    "FW_df = pd.DataFrame.from_dict(FW_df).T"
   ]
  },
  {
   "cell_type": "code",
   "execution_count": 5,
   "metadata": {},
   "outputs": [],
   "source": [
    "FW_df.index = ['2020-03-24']*3 + ['2020-04-21']*3 + ['2020-05-22']*3 + ['2020-06-17']*4\n",
    "__ = FW_df"
   ]
  },
  {
   "cell_type": "code",
   "execution_count": 6,
   "metadata": {},
   "outputs": [],
   "source": [
    "FW_df = {}\n",
    "_ = 0\n",
    "for FILENAME in dataset_list[:-1]:\n",
    "    temp_df = pd.read_excel(DIRECTORY + FILENAME, sheet_name=None, skiprows=0)\n",
    "    for key in temp_df.keys():\n",
    "        if temp_df[key].shape[0] == 0:\n",
    "            continue\n",
    "            \n",
    "        FW_df[key] = temp_df[key][['Stem FW', 'Leaf FW', 'petiole FW', 'Fruit count', 'Idv fruit FW', 'Plant height']].iloc[:10, :].sum()\n",
    "    _ += 1 \n",
    "FW_df = pd.DataFrame.from_dict(FW_df).T"
   ]
  },
  {
   "cell_type": "code",
   "execution_count": 7,
   "metadata": {},
   "outputs": [],
   "source": [
    "FW_df = FW_df.filter(like='A2', axis=0)\n",
    "FW_df.index = ['2020-07-07' for i in range(len(FW_df.index))]"
   ]
  },
  {
   "cell_type": "code",
   "execution_count": 8,
   "metadata": {},
   "outputs": [],
   "source": [
    "FW_df = pd.concat([__, FW_df], axis=0, sort=False)"
   ]
  },
  {
   "cell_type": "code",
   "execution_count": 9,
   "metadata": {},
   "outputs": [],
   "source": [
    "weight_df = FW_df.drop(['Plant height', 'Fruit count'], axis=1)"
   ]
  },
  {
   "cell_type": "code",
   "execution_count": 10,
   "metadata": {},
   "outputs": [],
   "source": [
    "weight_df.to_csv('./results/weight.csv')"
   ]
  },
  {
   "cell_type": "code",
   "execution_count": 11,
   "metadata": {},
   "outputs": [
    {
     "data": {
      "text/plain": [
       "Index(['2020-03-24', '2020-03-24', '2020-03-24', '2020-04-21', '2020-04-21',\n",
       "       '2020-04-21', '2020-05-22', '2020-05-22', '2020-05-22', '2020-06-17',\n",
       "       '2020-06-17', '2020-06-17', '2020-06-17', '2020-07-07', '2020-07-07',\n",
       "       '2020-07-07', '2020-07-07', '2020-07-07', '2020-07-07', '2020-07-07',\n",
       "       '2020-07-07', '2020-07-07', '2020-07-07', '2020-07-07', '2020-07-07',\n",
       "       '2020-07-07', '2020-07-07', '2020-07-07', '2020-07-07', '2020-07-07',\n",
       "       '2020-07-07', '2020-07-07', '2020-07-07'],\n",
       "      dtype='object')"
      ]
     },
     "execution_count": 11,
     "metadata": {},
     "output_type": "execute_result"
    }
   ],
   "source": [
    "weight_df.index"
   ]
  },
  {
   "cell_type": "code",
   "execution_count": 12,
   "metadata": {},
   "outputs": [],
   "source": [
    "weight_df = pd.DataFrame(weight_df.sum(axis=1), columns=['FW'])\n",
    "weight_df['DAT'] = [27]*3 + [55]*3 + [86]*3 + [112]*4 + [132]*20\n",
    "weight_df = weight_df[['DAT', 'FW']]"
   ]
  },
  {
   "cell_type": "code",
   "execution_count": 13,
   "metadata": {},
   "outputs": [],
   "source": [
    "def sigmoid(x, L, k, x0, b):\n",
    "    return L / (b + np.exp(-k*(x-x0)))"
   ]
  },
  {
   "cell_type": "code",
   "execution_count": 14,
   "metadata": {},
   "outputs": [],
   "source": [
    "x = weight_df['DAT'].values\n",
    "y = weight_df['FW'].values"
   ]
  },
  {
   "cell_type": "code",
   "execution_count": 15,
   "metadata": {},
   "outputs": [],
   "source": [
    "popt, pcov = curve_fit(sigmoid, x, y, method='trf')"
   ]
  },
  {
   "cell_type": "code",
   "execution_count": 18,
   "metadata": {},
   "outputs": [
    {
     "data": {
      "text/plain": [
       "array([8.21915397e+00, 1.07680612e-01, 3.60741609e+00, 4.40250147e-03])"
      ]
     },
     "execution_count": 18,
     "metadata": {},
     "output_type": "execute_result"
    }
   ],
   "source": [
    "popt"
   ]
  },
  {
   "cell_type": "code",
   "execution_count": 28,
   "metadata": {},
   "outputs": [
    {
     "data": {
      "text/plain": [
       "0.7765139814753229"
      ]
     },
     "execution_count": 28,
     "metadata": {},
     "output_type": "execute_result"
    }
   ],
   "source": [
    "r2_score(y, sigmoid(x, *popt))"
   ]
  },
  {
   "cell_type": "code",
   "execution_count": 16,
   "metadata": {},
   "outputs": [],
   "source": [
    "import matplotlib.pyplot as plt"
   ]
  },
  {
   "cell_type": "code",
   "execution_count": 17,
   "metadata": {},
   "outputs": [],
   "source": [
    "plot_x = [_ for _ in range(0, 140)]"
   ]
  },
  {
   "cell_type": "markdown",
   "metadata": {},
   "source": [
    "9.19044879 0.092341118 -2.92422326 0.0046724276"
   ]
  },
  {
   "cell_type": "code",
   "execution_count": null,
   "metadata": {},
   "outputs": [],
   "source": [
    "plt.plot(x, y, 'bo', label='data')\n",
    "plt.plot(plot_x, sigmoid(plot_x, *popt), '-', label='fit')\n",
    "plt.show()"
   ]
  },
  {
   "cell_type": "code",
   "execution_count": null,
   "metadata": {},
   "outputs": [],
   "source": [
    "weight_df = pd.DataFrame(sigmoid(plot_x, *popt), plot_x, columns=['weight'])\n",
    "weight_df.to_csv('./results/weight_reg.csv')"
   ]
  }
 ],
 "metadata": {
  "kernelspec": {
   "display_name": "Environment (conda_tensorflow2_p36)",
   "language": "python",
   "name": "conda_tensorflow2_p36"
  },
  "language_info": {
   "codemirror_mode": {
    "name": "ipython",
    "version": 3
   },
   "file_extension": ".py",
   "mimetype": "text/x-python",
   "name": "python",
   "nbconvert_exporter": "python",
   "pygments_lexer": "ipython3",
   "version": "3.6.10"
  }
 },
 "nbformat": 4,
 "nbformat_minor": 4
}
